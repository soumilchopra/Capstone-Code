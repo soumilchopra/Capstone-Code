{
 "cells": [
  {
   "cell_type": "code",
   "execution_count": 15,
   "id": "7455c3ca",
   "metadata": {},
   "outputs": [],
   "source": [
    "import sklearn #SVM Library/Package \n",
    "from sklearn import svm \n",
    "import scipy  \n",
    "import numpy\n",
    "import pandas as pd #for Python data manipulation\n",
    "import matplotlib.pyplot as plt\n",
    "\n",
    "#tensorflow testing\n",
    "import torch\n",
    "from torch import nn\n",
    "from torch import optim"
   ]
  },
  {
   "cell_type": "code",
   "execution_count": 16,
   "id": "1db0d8dd",
   "metadata": {},
   "outputs": [],
   "source": [
    "df_normal = pd.read_csv('ptbdb_normal.csv')#loading normal data\n",
    "df_abnormal = pd.read_csv('ptbdb_abnormal.csv')#loading abnormal data\n",
    "df_combined = pd.concat([df_normal, df_abnormal])\n",
    "\n",
    "#Splitting the data into train and testing sets\n",
    "df_train, df_test = sklearn.model_selection.train_test_split(df_combined, test_size = .35, random_state = 42, shuffle = True)\n",
    "\n",
    "#Splitting the target variable \n",
    "X_train, X_test = df_train.drop('188', axis=1), df_test.drop('188', axis=1)\n",
    "Y_train, Y_test = df_train['188'], df_test['188']"
   ]
  },
  {
   "cell_type": "code",
   "execution_count": 1,
   "id": "52921be7-0d65-4670-a82f-50e18f3b3eea",
   "metadata": {},
   "outputs": [
    {
     "ename": "NameError",
     "evalue": "name 'df_normal' is not defined",
     "output_type": "error",
     "traceback": [
      "\u001b[0;31m---------------------------------------------------------------------------\u001b[0m",
      "\u001b[0;31mNameError\u001b[0m                                 Traceback (most recent call last)",
      "\u001b[0;32m<ipython-input-1-34da5a805de9>\u001b[0m in \u001b[0;36m<module>\u001b[0;34m\u001b[0m\n\u001b[0;32m----> 1\u001b[0;31m \u001b[0mEDA\u001b[0m \u001b[0;34m=\u001b[0m \u001b[0;34m(\u001b[0m\u001b[0mdf_normal\u001b[0m\u001b[0;34m.\u001b[0m\u001b[0miloc\u001b[0m\u001b[0;34m[\u001b[0m\u001b[0;36m0\u001b[0m\u001b[0;34m]\u001b[0m\u001b[0;34m)\u001b[0m\u001b[0;34m\u001b[0m\u001b[0;34m\u001b[0m\u001b[0m\n\u001b[0m\u001b[1;32m      2\u001b[0m \u001b[0mplt\u001b[0m\u001b[0;34m.\u001b[0m\u001b[0mplot\u001b[0m\u001b[0;34m(\u001b[0m\u001b[0mEDA\u001b[0m\u001b[0;34m)\u001b[0m\u001b[0;34m\u001b[0m\u001b[0;34m\u001b[0m\u001b[0m\n",
      "\u001b[0;31mNameError\u001b[0m: name 'df_normal' is not defined"
     ]
    }
   ],
   "source": [
    "EDA = (df_normal.iloc[0])\n",
    "plt.plot(EDA)"
   ]
  },
  {
   "cell_type": "code",
   "execution_count": 4,
   "id": "fcaf7387",
   "metadata": {},
   "outputs": [
    {
     "name": "stdout",
     "output_type": "stream",
     "text": [
      "Coefficient of Determination of Test Data: 0.7235963879073419\n"
     ]
    }
   ],
   "source": [
    "sigma = .1\n",
    "gamma = 1/(2*sigma**2)\n",
    "\n",
    "clf_gaussian = svm.SVC(kernel='rbf',\n",
    "                        gamma = gamma,\n",
    "                        C = 1.0,\n",
    "                        decision_function_shape = 'ovr')\n",
    "clf_gaussian.fit(X_train, Y_train)\n",
    "\n",
    "train_acc = clf_gaussian.score(X_train, Y_train) # train_acc = 1.0 (100%)\n",
    "test_acc = clf_gaussian.score(X_test, Y_test) # \n",
    "print(\"Coefficient of Determination of Test Data: \" + str(test_acc))"
   ]
  },
  {
   "cell_type": "code",
   "execution_count": null,
   "id": "d0801378",
   "metadata": {},
   "outputs": [],
   "source": []
  }
 ],
 "metadata": {
  "kernelspec": {
   "display_name": "Python 3",
   "language": "python",
   "name": "python3"
  },
  "language_info": {
   "codemirror_mode": {
    "name": "ipython",
    "version": 3
   },
   "file_extension": ".py",
   "mimetype": "text/x-python",
   "name": "python",
   "nbconvert_exporter": "python",
   "pygments_lexer": "ipython3",
   "version": "3.9.4"
  }
 },
 "nbformat": 4,
 "nbformat_minor": 5
}
